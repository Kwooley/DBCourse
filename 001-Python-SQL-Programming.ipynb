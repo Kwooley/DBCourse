{
 "cells": [
  {
   "cell_type": "markdown",
   "metadata": {},
   "source": [
    "# Python Programming with SQL"
   ]
  },
  {
   "cell_type": "markdown",
   "metadata": {},
   "source": [
    "## 1. Connection to SQLite3"
   ]
  },
  {
   "cell_type": "code",
   "execution_count": 7,
   "metadata": {},
   "outputs": [],
   "source": [
    "import sqlite3\n",
    "conn = sqlite3.connect(\"sample11.db\") # database filename does not have to exitst. It will be created."
   ]
  },
  {
   "cell_type": "markdown",
   "metadata": {},
   "source": [
    "# 2. Cursor and Execute SQL Statement"
   ]
  },
  {
   "cell_type": "markdown",
   "metadata": {},
   "source": [
    "##  CREATE TABLE Statement"
   ]
  },
  {
   "cell_type": "code",
   "execution_count": 8,
   "metadata": {},
   "outputs": [
    {
     "data": {
      "text/plain": [
       "<sqlite3.Cursor at 0x7f14a7e41e30>"
      ]
     },
     "execution_count": 8,
     "metadata": {},
     "output_type": "execute_result"
    }
   ],
   "source": [
    "sql_cmd_1 = \"\"\"\n",
    "create table dept (\n",
    "        deptno int not null,\n",
    "        deptname char(10),\n",
    "        floor int,\n",
    "        primary key (deptno)\n",
    "        );\n",
    "\"\"\"\n",
    "cursor = conn.cursor()\n",
    "cursor.execute(sql_cmd_1)\n"
   ]
  },
  {
   "cell_type": "code",
   "execution_count": 9,
   "metadata": {
    "collapsed": true
   },
   "outputs": [],
   "source": [
    "dept_data = [ (1, \"sales\", 8),\n",
    "              (2, \"planning\", 10),\n",
    "              (3, \"development\", 9),\n",
    "              (4, \"admin\", 7)]\n"
   ]
  },
  {
   "cell_type": "code",
   "execution_count": 10,
   "metadata": {
    "scrolled": true
   },
   "outputs": [
    {
     "name": "stdout",
     "output_type": "stream",
     "text": [
      " \n",
      "    INSERT INTO dept VALUES (1, \"sales\", 8);\n",
      " \n",
      "    INSERT INTO dept VALUES (2, \"planning\", 10);\n",
      " \n",
      "    INSERT INTO dept VALUES (3, \"development\", 9);\n",
      " \n",
      "    INSERT INTO dept VALUES (4, \"admin\", 7);\n"
     ]
    }
   ],
   "source": [
    "for tuple in dept_data:\n",
    "    format_string = \"\"\" \n",
    "    INSERT INTO dept VALUES ({dno}, \"{dname}\", {floor});\"\"\"\n",
    "    sql_icmd = format_string.format(dno=tuple[0], dname=tuple[1].encode(), floor=tuple[2])\n",
    "    print sql_icmd\n",
    "    cursor.execute(sql_icmd)\n",
    "    "
   ]
  },
  {
   "cell_type": "markdown",
   "metadata": {},
   "source": [
    "## SELECT Statement"
   ]
  },
  {
   "cell_type": "markdown",
   "metadata": {},
   "source": [
    "### Fetch One"
   ]
  },
  {
   "cell_type": "code",
   "execution_count": 13,
   "metadata": {},
   "outputs": [
    {
     "name": "stdout",
     "output_type": "stream",
     "text": [
      "(1, u'sales', 8)\n",
      "(2, u'planning', 10)\n",
      "(3, u'development', 9)\n"
     ]
    }
   ],
   "source": [
    "sql_scmd = \"SELECT * from dept;\"\n",
    "cursor.execute(sql_scmd)\n",
    "\n",
    "result_tuple = cursor.fetchone()\n",
    "print result_tuple\n",
    "\n",
    "result_tuple = cursor.fetchone()\n",
    "print result_tuple\n",
    "\n",
    "result_tuple = cursor.fetchone()\n",
    "print result_tuple\n",
    "\n"
   ]
  },
  {
   "cell_type": "markdown",
   "metadata": {},
   "source": [
    "### Fetch ALL"
   ]
  },
  {
   "cell_type": "code",
   "execution_count": 14,
   "metadata": {},
   "outputs": [
    {
     "name": "stdout",
     "output_type": "stream",
     "text": [
      "(1, u'sales', 8)\n",
      "(2, u'planning', 10)\n",
      "(3, u'development', 9)\n",
      "(4, u'admin', 7)\n"
     ]
    }
   ],
   "source": [
    "sql_scmd = \"SELECT * from dept;\"\n",
    "cursor.execute(sql_scmd)\n",
    "\n",
    "result_tuples = cursor.fetchall()\n",
    "\n",
    "for each_tuple in result_tuples:\n",
    "    print each_tuple"
   ]
  },
  {
   "cell_type": "markdown",
   "metadata": {},
   "source": [
    "# Commit and Close"
   ]
  },
  {
   "cell_type": "code",
   "execution_count": 15,
   "metadata": {
    "collapsed": true
   },
   "outputs": [],
   "source": [
    "conn.commit()\n",
    "conn.close()"
   ]
  }
 ],
 "metadata": {
  "kernelspec": {
   "display_name": "Python 2",
   "language": "python",
   "name": "python2"
  },
  "language_info": {
   "codemirror_mode": {
    "name": "ipython",
    "version": 2
   },
   "file_extension": ".py",
   "mimetype": "text/x-python",
   "name": "python",
   "nbconvert_exporter": "python",
   "pygments_lexer": "ipython2",
   "version": "2.7.3"
  }
 },
 "nbformat": 4,
 "nbformat_minor": 2
}
