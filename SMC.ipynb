{
 "cells": [
  {
   "cell_type": "code",
   "execution_count": 1,
   "metadata": {},
   "outputs": [],
   "source": [
    "%load_ext sql"
   ]
  },
  {
   "cell_type": "code",
   "execution_count": 2,
   "metadata": {},
   "outputs": [
    {
     "data": {
      "text/plain": [
       "u'Connected: @sample2.db'"
      ]
     },
     "execution_count": 2,
     "metadata": {},
     "output_type": "execute_result"
    }
   ],
   "source": [
    "%sql sqlite:///sample2.db"
   ]
  },
  {
   "cell_type": "code",
   "execution_count": 3,
   "metadata": {},
   "outputs": [
    {
     "name": "stdout",
     "output_type": "stream",
     "text": [
      " * sqlite:///sample2.db\n",
      "Done.\n"
     ]
    },
    {
     "data": {
      "text/html": [
       "<table>\n",
       "    <tr>\n",
       "        <th>sid</th>\n",
       "        <th>sname</th>\n",
       "        <th>major</th>\n",
       "        <th>gradelevel</th>\n",
       "        <th>Age</th>\n",
       "    </tr>\n",
       "    <tr>\n",
       "        <td>100</td>\n",
       "        <td>JONES</td>\n",
       "        <td>HISTORY</td>\n",
       "        <td>GR</td>\n",
       "        <td>21</td>\n",
       "    </tr>\n",
       "    <tr>\n",
       "        <td>150</td>\n",
       "        <td>PARKS</td>\n",
       "        <td>ACCOUNTING</td>\n",
       "        <td>SO</td>\n",
       "        <td>19</td>\n",
       "    </tr>\n",
       "    <tr>\n",
       "        <td>200</td>\n",
       "        <td>BAKER</td>\n",
       "        <td>MATH</td>\n",
       "        <td>GR</td>\n",
       "        <td>50</td>\n",
       "    </tr>\n",
       "    <tr>\n",
       "        <td>250</td>\n",
       "        <td>GLASS</td>\n",
       "        <td>HISTORY</td>\n",
       "        <td>SN</td>\n",
       "        <td>50</td>\n",
       "    </tr>\n",
       "    <tr>\n",
       "        <td>300</td>\n",
       "        <td>BAKER</td>\n",
       "        <td>ACCOUNTING</td>\n",
       "        <td>SN</td>\n",
       "        <td>41</td>\n",
       "    </tr>\n",
       "    <tr>\n",
       "        <td>350</td>\n",
       "        <td>RUSSEL</td>\n",
       "        <td>MATH</td>\n",
       "        <td>JR</td>\n",
       "        <td>20</td>\n",
       "    </tr>\n",
       "    <tr>\n",
       "        <td>400</td>\n",
       "        <td>RYE</td>\n",
       "        <td>ACCOUNTING</td>\n",
       "        <td>FR</td>\n",
       "        <td>18</td>\n",
       "    </tr>\n",
       "    <tr>\n",
       "        <td>450</td>\n",
       "        <td>JONES</td>\n",
       "        <td>HISTORY</td>\n",
       "        <td>SN</td>\n",
       "        <td>24</td>\n",
       "    </tr>\n",
       "</table>"
      ],
      "text/plain": [
       "[(100, u'JONES', u'HISTORY', u'GR', 21),\n",
       " (150, u'PARKS', u'ACCOUNTING', u'SO', 19),\n",
       " (200, u'BAKER', u'MATH', u'GR', 50),\n",
       " (250, u'GLASS', u'HISTORY', u'SN', 50),\n",
       " (300, u'BAKER', u'ACCOUNTING', u'SN', 41),\n",
       " (350, u'RUSSEL', u'MATH', u'JR', 20),\n",
       " (400, u'RYE', u'ACCOUNTING', u'FR', 18),\n",
       " (450, u'JONES', u'HISTORY', u'SN', 24)]"
      ]
     },
     "execution_count": 3,
     "metadata": {},
     "output_type": "execute_result"
    }
   ],
   "source": [
    "%sql select * from student;"
   ]
  },
  {
   "cell_type": "code",
   "execution_count": 4,
   "metadata": {},
   "outputs": [
    {
     "name": "stdout",
     "output_type": "stream",
     "text": [
      " * sqlite:///sample2.db\n",
      "Done.\n"
     ]
    },
    {
     "data": {
      "text/html": [
       "<table>\n",
       "    <tr>\n",
       "        <th>count(*)</th>\n",
       "    </tr>\n",
       "    <tr>\n",
       "        <td>8</td>\n",
       "    </tr>\n",
       "</table>"
      ],
      "text/plain": [
       "[(8,)]"
      ]
     },
     "execution_count": 4,
     "metadata": {},
     "output_type": "execute_result"
    }
   ],
   "source": [
    "%sql select count(*) from student;"
   ]
  },
  {
   "cell_type": "code",
   "execution_count": 5,
   "metadata": {},
   "outputs": [
    {
     "name": "stdout",
     "output_type": "stream",
     "text": [
      " * sqlite:///sample2.db\n",
      "Done.\n"
     ]
    }
   ],
   "source": [
    "res = %sql select * from class;"
   ]
  },
  {
   "cell_type": "code",
   "execution_count": 6,
   "metadata": {},
   "outputs": [
    {
     "name": "stdout",
     "output_type": "stream",
     "text": [
      "+-------+-------+-------+\n",
      "| cname |  time |  room |\n",
      "+-------+-------+-------+\n",
      "| BA200 |  M-F9 | SC110 |\n",
      "| BD445 |  MWF3 | SC213 |\n",
      "| BF410 |  MWF8 | SC213 |\n",
      "| CS150 |  MWF3 | EA304 |\n",
      "| CS250 | MWF12 | EB210 |\n",
      "+-------+-------+-------+\n"
     ]
    }
   ],
   "source": [
    "print res"
   ]
  },
  {
   "cell_type": "code",
   "execution_count": 15,
   "metadata": {},
   "outputs": [
    {
     "name": "stdout",
     "output_type": "stream",
     "text": [
      " * sqlite:///sample2.db\n",
      "Done.\n"
     ]
    },
    {
     "data": {
      "text/html": [
       "<table>\n",
       "    <tr>\n",
       "        <th>sid</th>\n",
       "        <th>sname</th>\n",
       "        <th>major</th>\n",
       "        <th>gradelevel</th>\n",
       "        <th>Age</th>\n",
       "    </tr>\n",
       "    <tr>\n",
       "        <td>200</td>\n",
       "        <td>BAKER</td>\n",
       "        <td>MATH</td>\n",
       "        <td>GR</td>\n",
       "        <td>50</td>\n",
       "    </tr>\n",
       "    <tr>\n",
       "        <td>300</td>\n",
       "        <td>BAKER</td>\n",
       "        <td>ACCOUNTING</td>\n",
       "        <td>SN</td>\n",
       "        <td>41</td>\n",
       "    </tr>\n",
       "</table>"
      ],
      "text/plain": [
       "[(200, u'BAKER', u'MATH', u'GR', 50),\n",
       " (300, u'BAKER', u'ACCOUNTING', u'SN', 41)]"
      ]
     },
     "execution_count": 15,
     "metadata": {},
     "output_type": "execute_result"
    }
   ],
   "source": [
    "name = 'B%'\n",
    "%sql select * from student where sname like :name;"
   ]
  }
 ],
 "metadata": {
  "kernelspec": {
   "display_name": "Python 2",
   "language": "python",
   "name": "python2"
  },
  "language_info": {
   "codemirror_mode": {
    "name": "ipython",
    "version": 2
   },
   "file_extension": ".py",
   "mimetype": "text/x-python",
   "name": "python",
   "nbconvert_exporter": "python",
   "pygments_lexer": "ipython2",
   "version": "2.7.3"
  }
 },
 "nbformat": 4,
 "nbformat_minor": 2
}
