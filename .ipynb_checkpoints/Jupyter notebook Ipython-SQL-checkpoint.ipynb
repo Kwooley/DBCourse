{
 "cells": [
  {
   "cell_type": "code",
   "execution_count": 1,
   "metadata": {
    "scrolled": true
   },
   "outputs": [
    {
     "name": "stderr",
     "output_type": "stream",
     "text": [
      "/root/anaconda2/lib/python2.7/site-packages/IPython/config.py:13: ShimWarning: The `IPython.config` package has been deprecated since IPython 4.0. You should import from traitlets.config instead.\n",
      "  \"You should import from traitlets.config instead.\", ShimWarning)\n",
      "/root/anaconda2/lib/python2.7/site-packages/IPython/utils/traitlets.py:5: UserWarning: IPython.utils.traitlets has moved to a top-level traitlets package.\n",
      "  warn(\"IPython.utils.traitlets has moved to a top-level traitlets package.\")\n"
     ]
    }
   ],
   "source": [
    "%load_ext sql"
   ]
  },
  {
   "cell_type": "markdown",
   "metadata": {},
   "source": [
    "### Next, we'll load an SQLite database stored as a file as follows:\n",
    "\n",
    "NOTE: We load a file below (here, \"sample1.db\", which must be in the same directory as the notebook. \n",
    "You'll use this file throughout the next few lectures . \n",
    "Make sure to download the from the webpage or https://github.com/Kwooley/DBCourse/blob/master/001-SQLite%20SampleDB1\n"
   ]
  },
  {
   "cell_type": "code",
   "execution_count": 2,
   "metadata": {},
   "outputs": [
    {
     "data": {
      "text/plain": [
       "u'Connected: None@sample1.db'"
      ]
     },
     "execution_count": 2,
     "metadata": {},
     "output_type": "execute_result"
    }
   ],
   "source": [
    "%sql sqlite:///sample1.db"
   ]
  },
  {
   "cell_type": "code",
   "execution_count": 4,
   "metadata": {},
   "outputs": [
    {
     "name": "stdout",
     "output_type": "stream",
     "text": [
      "Done.\n"
     ]
    },
    {
     "data": {
      "text/html": [
       "<table>\n",
       "    <tr>\n",
       "        <th>deptno</th>\n",
       "        <th>deptname</th>\n",
       "        <th>floor</th>\n",
       "    </tr>\n",
       "    <tr>\n",
       "        <td>1</td>\n",
       "        <td>영업</td>\n",
       "        <td>8</td>\n",
       "    </tr>\n",
       "    <tr>\n",
       "        <td>2</td>\n",
       "        <td>기획</td>\n",
       "        <td>10</td>\n",
       "    </tr>\n",
       "    <tr>\n",
       "        <td>3</td>\n",
       "        <td>개발</td>\n",
       "        <td>9</td>\n",
       "    </tr>\n",
       "    <tr>\n",
       "        <td>4</td>\n",
       "        <td>총부</td>\n",
       "        <td>7</td>\n",
       "    </tr>\n",
       "</table>"
      ],
      "text/plain": [
       "[(1, u'\\uc601\\uc5c5', 8),\n",
       " (2, u'\\uae30\\ud68d', 10),\n",
       " (3, u'\\uac1c\\ubc1c', 9),\n",
       " (4, u'\\ucd1d\\ubd80', 7)]"
      ]
     },
     "execution_count": 4,
     "metadata": {},
     "output_type": "execute_result"
    }
   ],
   "source": [
    "%sql select * from dept;"
   ]
  },
  {
   "cell_type": "code",
   "execution_count": 5,
   "metadata": {},
   "outputs": [
    {
     "name": "stdout",
     "output_type": "stream",
     "text": [
      "Done.\n"
     ]
    }
   ],
   "source": [
    "result = %sql select * from dept;"
   ]
  },
  {
   "cell_type": "code",
   "execution_count": 6,
   "metadata": {},
   "outputs": [
    {
     "name": "stdout",
     "output_type": "stream",
     "text": [
      "+--------+----------+-------+\n",
      "| deptno | deptname | floor |\n",
      "+--------+----------+-------+\n",
      "|   1    |   영업   |   8   |\n",
      "|   2    |   기획   |   10  |\n",
      "|   3    |   개발   |   9   |\n",
      "|   4    |   총부   |   7   |\n",
      "+--------+----------+-------+\n"
     ]
    }
   ],
   "source": [
    "print result"
   ]
  },
  {
   "cell_type": "code",
   "execution_count": 7,
   "metadata": {},
   "outputs": [
    {
     "name": "stdout",
     "output_type": "stream",
     "text": [
      "(1, u'\\uc601\\uc5c5', 8)\n",
      "(2, u'\\uae30\\ud68d', 10)\n",
      "(3, u'\\uac1c\\ubc1c', 9)\n",
      "(4, u'\\ucd1d\\ubd80', 7)\n"
     ]
    }
   ],
   "source": [
    "for row in result:\n",
    "    print row"
   ]
  },
  {
   "cell_type": "code",
   "execution_count": 8,
   "metadata": {},
   "outputs": [
    {
     "name": "stdout",
     "output_type": "stream",
     "text": [
      "영업\n",
      "기획\n",
      "개발\n",
      "총부\n"
     ]
    }
   ],
   "source": [
    "for row in result:\n",
    "    print row.deptname"
   ]
  },
  {
   "cell_type": "code",
   "execution_count": 9,
   "metadata": {},
   "outputs": [
    {
     "name": "stdout",
     "output_type": "stream",
     "text": [
      "(sqlite3.OperationalError) near \"dname\": syntax error [SQL: u'dname << select deptname \\nfrom dept;']\n"
     ]
    }
   ],
   "source": [
    "%%sql dname << select deptname \n",
    "from dept;"
   ]
  },
  {
   "cell_type": "code",
   "execution_count": null,
   "metadata": {
    "collapsed": true
   },
   "outputs": [],
   "source": []
  },
  {
   "cell_type": "code",
   "execution_count": 6,
   "metadata": {},
   "outputs": [
    {
     "name": "stdout",
     "output_type": "stream",
     "text": [
      "Done.\n"
     ]
    },
    {
     "data": {
      "text/html": [
       "<table>\n",
       "    <tr>\n",
       "        <th>deptno</th>\n",
       "        <th>deptname</th>\n",
       "        <th>floor</th>\n",
       "        <th>empno</th>\n",
       "        <th>empname</th>\n",
       "        <th>title</th>\n",
       "        <th>manager</th>\n",
       "        <th>salary</th>\n",
       "        <th>dno</th>\n",
       "    </tr>\n",
       "    <tr>\n",
       "        <td>2</td>\n",
       "        <td>기획</td>\n",
       "        <td>10</td>\n",
       "        <td>4377</td>\n",
       "        <td>이성래</td>\n",
       "        <td>사장</td>\n",
       "        <td>None</td>\n",
       "        <td>5000000</td>\n",
       "        <td>2</td>\n",
       "    </tr>\n",
       "    <tr>\n",
       "        <td>1</td>\n",
       "        <td>영업</td>\n",
       "        <td>8</td>\n",
       "        <td>3426</td>\n",
       "        <td>박영권</td>\n",
       "        <td>과장</td>\n",
       "        <td>4377</td>\n",
       "        <td>3000000</td>\n",
       "        <td>1</td>\n",
       "    </tr>\n",
       "    <tr>\n",
       "        <td>3</td>\n",
       "        <td>개발</td>\n",
       "        <td>9</td>\n",
       "        <td>3011</td>\n",
       "        <td>이수민</td>\n",
       "        <td>부장</td>\n",
       "        <td>4377</td>\n",
       "        <td>4000000</td>\n",
       "        <td>3</td>\n",
       "    </tr>\n",
       "    <tr>\n",
       "        <td>3</td>\n",
       "        <td>개발</td>\n",
       "        <td>9</td>\n",
       "        <td>3427</td>\n",
       "        <td>최종철</td>\n",
       "        <td>사원</td>\n",
       "        <td>3011</td>\n",
       "        <td>1500000</td>\n",
       "        <td>3</td>\n",
       "    </tr>\n",
       "    <tr>\n",
       "        <td>2</td>\n",
       "        <td>기획</td>\n",
       "        <td>10</td>\n",
       "        <td>1003</td>\n",
       "        <td>조민희</td>\n",
       "        <td>과장</td>\n",
       "        <td>4377</td>\n",
       "        <td>3000000</td>\n",
       "        <td>2</td>\n",
       "    </tr>\n",
       "    <tr>\n",
       "        <td>2</td>\n",
       "        <td>기획</td>\n",
       "        <td>10</td>\n",
       "        <td>2106</td>\n",
       "        <td>김창섭</td>\n",
       "        <td>대리</td>\n",
       "        <td>1003</td>\n",
       "        <td>2500000</td>\n",
       "        <td>2</td>\n",
       "    </tr>\n",
       "    <tr>\n",
       "        <td>1</td>\n",
       "        <td>영업</td>\n",
       "        <td>8</td>\n",
       "        <td>1365</td>\n",
       "        <td>김상원</td>\n",
       "        <td>사원</td>\n",
       "        <td>3426</td>\n",
       "        <td>1500000</td>\n",
       "        <td>1</td>\n",
       "    </tr>\n",
       "</table>"
      ],
      "text/plain": [
       "[(2, u'\\uae30\\ud68d', 10, 4377, u'\\uc774\\uc131\\ub798', u'\\uc0ac\\uc7a5', None, 5000000, 2),\n",
       " (1, u'\\uc601\\uc5c5', 8, 3426, u'\\ubc15\\uc601\\uad8c', u'\\uacfc\\uc7a5', 4377, 3000000, 1),\n",
       " (3, u'\\uac1c\\ubc1c', 9, 3011, u'\\uc774\\uc218\\ubbfc', u'\\ubd80\\uc7a5', 4377, 4000000, 3),\n",
       " (3, u'\\uac1c\\ubc1c', 9, 3427, u'\\ucd5c\\uc885\\ucca0', u'\\uc0ac\\uc6d0', 3011, 1500000, 3),\n",
       " (2, u'\\uae30\\ud68d', 10, 1003, u'\\uc870\\ubbfc\\ud76c', u'\\uacfc\\uc7a5', 4377, 3000000, 2),\n",
       " (2, u'\\uae30\\ud68d', 10, 2106, u'\\uae40\\ucc3d\\uc12d', u'\\ub300\\ub9ac', 1003, 2500000, 2),\n",
       " (1, u'\\uc601\\uc5c5', 8, 1365, u'\\uae40\\uc0c1\\uc6d0', u'\\uc0ac\\uc6d0', 3426, 1500000, 1)]"
      ]
     },
     "execution_count": 6,
     "metadata": {},
     "output_type": "execute_result"
    }
   ],
   "source": [
    "%sql select * from dept, emp where dept.deptno = emp.dno;"
   ]
  },
  {
   "cell_type": "code",
   "execution_count": 9,
   "metadata": {},
   "outputs": [
    {
     "name": "stdout",
     "output_type": "stream",
     "text": [
      "Done.\n"
     ]
    },
    {
     "data": {
      "text/html": [
       "<table>\n",
       "    <tr>\n",
       "        <th>empno</th>\n",
       "        <th>empname</th>\n",
       "        <th>title</th>\n",
       "        <th>manager</th>\n",
       "        <th>salary</th>\n",
       "        <th>dno</th>\n",
       "    </tr>\n",
       "    <tr>\n",
       "        <td>4377</td>\n",
       "        <td>이성래</td>\n",
       "        <td>사장</td>\n",
       "        <td>None</td>\n",
       "        <td>5000000</td>\n",
       "        <td>2</td>\n",
       "    </tr>\n",
       "    <tr>\n",
       "        <td>3426</td>\n",
       "        <td>박영권</td>\n",
       "        <td>과장</td>\n",
       "        <td>4377</td>\n",
       "        <td>3000000</td>\n",
       "        <td>1</td>\n",
       "    </tr>\n",
       "    <tr>\n",
       "        <td>3011</td>\n",
       "        <td>이수민</td>\n",
       "        <td>부장</td>\n",
       "        <td>4377</td>\n",
       "        <td>4000000</td>\n",
       "        <td>3</td>\n",
       "    </tr>\n",
       "    <tr>\n",
       "        <td>3427</td>\n",
       "        <td>최종철</td>\n",
       "        <td>사원</td>\n",
       "        <td>3011</td>\n",
       "        <td>1500000</td>\n",
       "        <td>3</td>\n",
       "    </tr>\n",
       "    <tr>\n",
       "        <td>1003</td>\n",
       "        <td>조민희</td>\n",
       "        <td>과장</td>\n",
       "        <td>4377</td>\n",
       "        <td>3000000</td>\n",
       "        <td>2</td>\n",
       "    </tr>\n",
       "    <tr>\n",
       "        <td>2106</td>\n",
       "        <td>김창섭</td>\n",
       "        <td>대리</td>\n",
       "        <td>1003</td>\n",
       "        <td>2500000</td>\n",
       "        <td>2</td>\n",
       "    </tr>\n",
       "    <tr>\n",
       "        <td>1365</td>\n",
       "        <td>김상원</td>\n",
       "        <td>사원</td>\n",
       "        <td>3426</td>\n",
       "        <td>1500000</td>\n",
       "        <td>1</td>\n",
       "    </tr>\n",
       "</table>"
      ],
      "text/plain": [
       "[(4377, u'\\uc774\\uc131\\ub798', u'\\uc0ac\\uc7a5', None, 5000000, 2),\n",
       " (3426, u'\\ubc15\\uc601\\uad8c', u'\\uacfc\\uc7a5', 4377, 3000000, 1),\n",
       " (3011, u'\\uc774\\uc218\\ubbfc', u'\\ubd80\\uc7a5', 4377, 4000000, 3),\n",
       " (3427, u'\\ucd5c\\uc885\\ucca0', u'\\uc0ac\\uc6d0', 3011, 1500000, 3),\n",
       " (1003, u'\\uc870\\ubbfc\\ud76c', u'\\uacfc\\uc7a5', 4377, 3000000, 2),\n",
       " (2106, u'\\uae40\\ucc3d\\uc12d', u'\\ub300\\ub9ac', 1003, 2500000, 2),\n",
       " (1365, u'\\uae40\\uc0c1\\uc6d0', u'\\uc0ac\\uc6d0', 3426, 1500000, 1)]"
      ]
     },
     "execution_count": 9,
     "metadata": {},
     "output_type": "execute_result"
    }
   ],
   "source": [
    "%sql select * from emp;"
   ]
  },
  {
   "cell_type": "code",
   "execution_count": 7,
   "metadata": {},
   "outputs": [
    {
     "name": "stdout",
     "output_type": "stream",
     "text": [
      "Done.\n"
     ]
    },
    {
     "data": {
      "text/html": [
       "<table>\n",
       "    <tr>\n",
       "        <th>deptno</th>\n",
       "        <th>deptname</th>\n",
       "        <th>floor</th>\n",
       "        <th>empno</th>\n",
       "        <th>empname</th>\n",
       "        <th>title</th>\n",
       "        <th>manager</th>\n",
       "        <th>salary</th>\n",
       "        <th>dno</th>\n",
       "    </tr>\n",
       "    <tr>\n",
       "        <td>2</td>\n",
       "        <td>기획</td>\n",
       "        <td>10</td>\n",
       "        <td>4377</td>\n",
       "        <td>이성래</td>\n",
       "        <td>사장</td>\n",
       "        <td>None</td>\n",
       "        <td>5000000</td>\n",
       "        <td>2</td>\n",
       "    </tr>\n",
       "    <tr>\n",
       "        <td>1</td>\n",
       "        <td>영업</td>\n",
       "        <td>8</td>\n",
       "        <td>3426</td>\n",
       "        <td>박영권</td>\n",
       "        <td>과장</td>\n",
       "        <td>4377</td>\n",
       "        <td>3000000</td>\n",
       "        <td>1</td>\n",
       "    </tr>\n",
       "    <tr>\n",
       "        <td>3</td>\n",
       "        <td>개발</td>\n",
       "        <td>9</td>\n",
       "        <td>3011</td>\n",
       "        <td>이수민</td>\n",
       "        <td>부장</td>\n",
       "        <td>4377</td>\n",
       "        <td>4000000</td>\n",
       "        <td>3</td>\n",
       "    </tr>\n",
       "    <tr>\n",
       "        <td>3</td>\n",
       "        <td>개발</td>\n",
       "        <td>9</td>\n",
       "        <td>3427</td>\n",
       "        <td>최종철</td>\n",
       "        <td>사원</td>\n",
       "        <td>3011</td>\n",
       "        <td>1500000</td>\n",
       "        <td>3</td>\n",
       "    </tr>\n",
       "    <tr>\n",
       "        <td>2</td>\n",
       "        <td>기획</td>\n",
       "        <td>10</td>\n",
       "        <td>1003</td>\n",
       "        <td>조민희</td>\n",
       "        <td>과장</td>\n",
       "        <td>4377</td>\n",
       "        <td>3000000</td>\n",
       "        <td>2</td>\n",
       "    </tr>\n",
       "    <tr>\n",
       "        <td>2</td>\n",
       "        <td>기획</td>\n",
       "        <td>10</td>\n",
       "        <td>2106</td>\n",
       "        <td>김창섭</td>\n",
       "        <td>대리</td>\n",
       "        <td>1003</td>\n",
       "        <td>2500000</td>\n",
       "        <td>2</td>\n",
       "    </tr>\n",
       "    <tr>\n",
       "        <td>1</td>\n",
       "        <td>영업</td>\n",
       "        <td>8</td>\n",
       "        <td>1365</td>\n",
       "        <td>김상원</td>\n",
       "        <td>사원</td>\n",
       "        <td>3426</td>\n",
       "        <td>1500000</td>\n",
       "        <td>1</td>\n",
       "    </tr>\n",
       "</table>"
      ],
      "text/plain": [
       "[(2, u'\\uae30\\ud68d', 10, 4377, u'\\uc774\\uc131\\ub798', u'\\uc0ac\\uc7a5', None, 5000000, 2),\n",
       " (1, u'\\uc601\\uc5c5', 8, 3426, u'\\ubc15\\uc601\\uad8c', u'\\uacfc\\uc7a5', 4377, 3000000, 1),\n",
       " (3, u'\\uac1c\\ubc1c', 9, 3011, u'\\uc774\\uc218\\ubbfc', u'\\ubd80\\uc7a5', 4377, 4000000, 3),\n",
       " (3, u'\\uac1c\\ubc1c', 9, 3427, u'\\ucd5c\\uc885\\ucca0', u'\\uc0ac\\uc6d0', 3011, 1500000, 3),\n",
       " (2, u'\\uae30\\ud68d', 10, 1003, u'\\uc870\\ubbfc\\ud76c', u'\\uacfc\\uc7a5', 4377, 3000000, 2),\n",
       " (2, u'\\uae30\\ud68d', 10, 2106, u'\\uae40\\ucc3d\\uc12d', u'\\ub300\\ub9ac', 1003, 2500000, 2),\n",
       " (1, u'\\uc601\\uc5c5', 8, 1365, u'\\uae40\\uc0c1\\uc6d0', u'\\uc0ac\\uc6d0', 3426, 1500000, 1)]"
      ]
     },
     "execution_count": 7,
     "metadata": {},
     "output_type": "execute_result"
    }
   ],
   "source": [
    "%%sql\n",
    "select * from dept, emp\n",
    "where dept.deptno = emp.dno;"
   ]
  },
  {
   "cell_type": "code",
   "execution_count": null,
   "metadata": {
    "collapsed": true
   },
   "outputs": [],
   "source": []
  }
 ],
 "metadata": {
  "kernelspec": {
   "display_name": "Python 2",
   "language": "python",
   "name": "python2"
  },
  "language_info": {
   "codemirror_mode": {
    "name": "ipython",
    "version": 2
   },
   "file_extension": ".py",
   "mimetype": "text/x-python",
   "name": "python",
   "nbconvert_exporter": "python",
   "pygments_lexer": "ipython2",
   "version": "2.7.3"
  }
 },
 "nbformat": 4,
 "nbformat_minor": 2
}
